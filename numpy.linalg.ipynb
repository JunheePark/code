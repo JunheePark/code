{
 "cells": [
  {
   "cell_type": "code",
   "execution_count": null,
   "metadata": {},
   "outputs": [],
   "source": [
    "import numpy as np\n",
    "from numpy.random import randn\n",
    "from numpy.linalg import *"
   ]
  },
  {
   "cell_type": "code",
   "execution_count": null,
   "metadata": {},
   "outputs": [],
   "source": [
    "#정사각 행렬의 대각 원소 값을 지정하고, 나머지는 0으로 채움\n",
    "print(np.diag((1,2,3,4)))"
   ]
  },
  {
   "cell_type": "code",
   "execution_count": null,
   "metadata": {},
   "outputs": [],
   "source": [
    "#행렬 곱셈\n",
    "arr = np.array([[1,2],[3,4]])\n",
    "arr2 = np.array([[2,2],[2,2]])\n",
    "print(arr.dot(arr2))"
   ]
  },
  {
   "cell_type": "code",
   "execution_count": null,
   "metadata": {},
   "outputs": [],
   "source": [
    "#대각선 원소의 합\n",
    "np.trace(np.diag((1,2,3,4)))"
   ]
  },
  {
   "cell_type": "code",
   "execution_count": null,
   "metadata": {},
   "outputs": [],
   "source": [
    "A=np.array([[2,4,-2],[4,9,-3],[-2,-3,7]])\n",
    "#행렬식 계산 determinant\n",
    "d=np.linalg.det(A)\n",
    "d"
   ]
  },
  {
   "cell_type": "code",
   "execution_count": null,
   "metadata": {},
   "outputs": [],
   "source": [
    "#역행렬 inverse\n",
    "A1=np.linalg.inv(A)\n",
    "A1"
   ]
  },
  {
   "cell_type": "markdown",
   "metadata": {},
   "source": [
    "svd 특이값분해\n",
    "m*n 행렬을 대각화하는 방법"
   ]
  },
  {
   "cell_type": "code",
   "execution_count": null,
   "metadata": {},
   "outputs": [],
   "source": [
    "#solve 가우스 소거법 : Ax=b를 만족하는 x 구하기\n",
    "b=np.array([2,8,10])\n",
    "x=np.linalg.solve(A,b)\n",
    "x"
   ]
  },
  {
   "cell_type": "code",
   "execution_count": null,
   "metadata": {},
   "outputs": [],
   "source": [
    "a = np.array([[3,1], [1,2]])\n",
    "b = np.array([9,8])\n",
    "c = np.linalg.solve(a, b)\n",
    "c"
   ]
  },
  {
   "cell_type": "markdown",
   "metadata": {},
   "source": [
    "np.linalg.lstsq(객체1(x), 객체2(y)): 최소자승법에 의한 선형 행렬방정식의 해를 계산 즉, 행렬 x,y 사이의 y=bx+e의 모형을 구축할 경우 실제 y와 추정 y 사이의 차이를 최소로 하는 조건을 만족시키는 과정을 최소자승법이라한다. 이러한 절차에 의해 선형모형의 계수행렬(b)를 계산한다. 이 함수는 계수와 잔차제곱합, rank, 특이값(singular value)을 반환한다."
   ]
  },
  {
   "cell_type": "code",
   "execution_count": null,
   "metadata": {},
   "outputs": [],
   "source": [
    "x = np.array([0, 1, 2, 3])\n",
    "y = np.array([-1, 0.2, 0.9, 2.1])\n",
    "x = np.vstack([x, np.ones(len(x))]).T\n",
    "x"
   ]
  },
  {
   "cell_type": "code",
   "execution_count": null,
   "metadata": {},
   "outputs": [],
   "source": [
    "m, c = np.linalg.lstsq(x, y)[0]\n",
    "print(m, c)"
   ]
  },
  {
   "cell_type": "code",
   "execution_count": null,
   "metadata": {},
   "outputs": [],
   "source": [
    "b, ssr, rank, sv=np.linalg.lstsq(x, y)\n",
    "print(b)\n",
    "print(ssr)\n",
    "print(rank)\n",
    "print(sv)"
   ]
  }
 ],
 "metadata": {
  "kernelspec": {
   "display_name": "Python 3",
   "language": "python",
   "name": "python3"
  },
  "language_info": {
   "codemirror_mode": {
    "name": "ipython",
    "version": 3
   },
   "file_extension": ".py",
   "mimetype": "text/x-python",
   "name": "python",
   "nbconvert_exporter": "python",
   "pygments_lexer": "ipython3",
   "version": "3.6.4"
  }
 },
 "nbformat": 4,
 "nbformat_minor": 2
}
