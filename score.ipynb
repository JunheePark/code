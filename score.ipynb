{
 "cells": [
  {
   "cell_type": "code",
   "execution_count": 6,
   "metadata": {},
   "outputs": [
    {
     "data": {
      "text/plain": [
       "array([94., 75., 82., 78., 77., 92., 88., 91., 67., 87.])"
      ]
     },
     "execution_count": 6,
     "metadata": {},
     "output_type": "execute_result"
    }
   ],
   "source": [
    "import numpy as np\n",
    "score = np.loadtxt('python_score.csv',delimiter=',', dtype='float64')\n",
    "answer=score[:20,-1]\n",
    "dset = score[:20, :10].T\n",
    "bool_dset = (dset == answer)\n",
    "\n",
    "scoreset=np.zeros((10,22))\n",
    "scoreset[:,:20]=bool_dset*1\n",
    "scoreset[:,20:]=score[20:,:10].T\n",
    "\n",
    "points =np.zeros(22)\n",
    "points[:20]=4\n",
    "points[20:]=1\n",
    "np.dot(scoreset,points)"
   ]
  }
 ],
 "metadata": {
  "kernelspec": {
   "display_name": "Python 2",
   "language": "python",
   "name": "python2"
  },
  "language_info": {
   "codemirror_mode": {
    "name": "ipython",
    "version": 2
   },
   "file_extension": ".py",
   "mimetype": "text/x-python",
   "name": "python",
   "nbconvert_exporter": "python",
   "pygments_lexer": "ipython2",
   "version": "2.7.14"
  }
 },
 "nbformat": 4,
 "nbformat_minor": 2
}
